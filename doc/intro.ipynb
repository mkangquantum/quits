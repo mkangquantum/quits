{
 "cells": [
  {
   "cell_type": "code",
   "execution_count": 1,
   "id": "012796a0",
   "metadata": {},
   "outputs": [],
   "source": [
    "import numpy as np\n",
    "import stim\n",
    "from tqdm import tqdm\n",
    "from quits.qldpc_code import *\n",
    "from quits.circuit import get_qldpc_mem_circuit, check_overlapping_CX\n",
    "from quits.decoder import sliding_window_bposd_circuit_mem\n",
    "from quits.simulation import get_stim_mem_result"
   ]
  },
  {
   "cell_type": "markdown",
   "id": "8575f157",
   "metadata": {},
   "source": [
    "## Load QLDPC codes and circuits\n",
    "\n",
    "### Hypergraph product (HGP) code\n",
    "\n",
    "Load the parity check matrix of the classical LDPC code stored in '../parity_check_matrices' directory.  \n",
    "The parity check matrix `h` is found from `quits.ldpc_utility.generate_ldpc`, following the method in [A. Grospellier, *Constant time decoding of quantum expander codes and application to fault-tolerant quantum computation* (2019)]."
   ]
  },
  {
   "cell_type": "code",
   "execution_count": 2,
   "id": "1153de04",
   "metadata": {},
   "outputs": [
    {
     "name": "stdout",
     "output_type": "stream",
     "text": [
      "Shape of classical code's parity check matrix:  (9, 12)\n"
     ]
    }
   ],
   "source": [
    "# Load the parity check matrix of the classical code that is used to construct the hgp code\n",
    "h = np.loadtxt('../parity_check_matrices/n=12_dv=3_dc=4_dist=6.txt', dtype=int)\n",
    "print('Shape of classical code\\'s parity check matrix: ', h.shape)"
   ]
  },
  {
   "cell_type": "code",
   "execution_count": 3,
   "id": "03e0c7d5",
   "metadata": {},
   "outputs": [
    {
     "name": "stdout",
     "output_type": "stream",
     "text": [
      "# data qubits:  225  # logical qubits:  9\n",
      "# z-check qubits:  108  # x-check qubits:  108\n",
      "# layers of entangling gates:  8\n"
     ]
    }
   ],
   "source": [
    "code = HgpCode(h, h)         # Define the HgpCode object\n",
    "code.build_graph(seed=22)    # Build the Tanner graph and assign directions to its edges. \n",
    "                             # For this specific h, seed=22 gives a circuit with entangling depth 8. \n",
    "num_zcheck, num_data = code.hz.shape\n",
    "num_xcheck, num_data = code.hx.shape\n",
    "num_logical = code.lz.shape[0]\n",
    "depth = sum(list(code.num_colors.values())) \n",
    "print('# data qubits: ', num_data, ' # logical qubits: ', num_logical)\n",
    "print('# z-check qubits: ', num_zcheck, ' # x-check qubits: ', num_xcheck)\n",
    "print('# layers of entangling gates: ', depth)"
   ]
  },
  {
   "cell_type": "markdown",
   "id": "467bc55c",
   "metadata": {},
   "source": [
    "For the HGP code, logical operators are written in the \"canonical form\" (see arXiv:2204.10812)\n",
    "$$L^z_{ik_1+j} = e_i \\otimes L^1_j, \\quad L^x_{ik_1+j} = L^2_i \\otimes e_j$$\n",
    "where $L^1_j$ ($L^2_i$) is the $j$($i$)-th logical operator of the 1st (2nd) classical code.  "
   ]
  },
  {
   "cell_type": "code",
   "execution_count": 4,
   "id": "f0fbcc8e",
   "metadata": {},
   "outputs": [
    {
     "name": "stdout",
     "output_type": "stream",
     "text": [
      "Z0 :  [3 5 6 7 8 9] , X0 :  [ 36  60  72  84  96 108]\n",
      "Z1 :  [ 0  1  5  6  8 10] , X1 :  [ 37  61  73  85  97 109]\n",
      "Z2 :  [ 2  4  5  6  8 11] , X2 :  [ 38  62  74  86  98 110]\n",
      "Z3 :  [15 17 18 19 20 21] , X3 :  [  0  12  60  72  96 120]\n",
      "Z4 :  [12 13 17 18 20 22] , X4 :  [  1  13  61  73  97 121]\n",
      "Z5 :  [14 16 17 18 20 23] , X5 :  [  2  14  62  74  98 122]\n",
      "Z6 :  [27 29 30 31 32 33] , X6 :  [ 24  48  60  72  96 132]\n",
      "Z7 :  [24 25 29 30 32 34] , X7 :  [ 25  49  61  73  97 133]\n",
      "Z8 :  [26 28 29 30 32 35] , X8 :  [ 26  50  62  74  98 134]\n"
     ]
    }
   ],
   "source": [
    "for i in range(code.lz.shape[0]):\n",
    "    print('Z%d : '%i, np.where(code.lz[i,:]==1)[0], ', X%d : '%i, np.where(code.lx[i,:]==1)[0])"
   ]
  },
  {
   "cell_type": "code",
   "execution_count": 5,
   "id": "0ac63072",
   "metadata": {},
   "outputs": [],
   "source": [
    "p = 1e-3           # physical error rate\n",
    "num_rounds = 15    # number of rounds (T-1)\n",
    "basis = 'Z'        # 'Z' or 'X'\n",
    "\n",
    "# Generate the memory experiment circuit\n",
    "circuit = stim.Circuit(get_qldpc_mem_circuit(code, p, p, p, p, num_rounds, basis=basis))\n",
    "check_overlapping_CX(circuit)    # Check for overlapping CX gates in the same layer. Nothing should be printed.\n",
    "#print(circuit)"
   ]
  },
  {
   "cell_type": "markdown",
   "id": "30d8e978",
   "metadata": {},
   "source": [
    "### Quasi-cyclic lifted product (QLP) code\n",
    "\n",
    "The base matrix `b` is brought from [Q. Xu et al., arXiv:2308.08648]. Each entry represents the exponent of the monomial. "
   ]
  },
  {
   "cell_type": "code",
   "execution_count": 6,
   "id": "132bfc43",
   "metadata": {},
   "outputs": [],
   "source": [
    "lift_size = 16\n",
    "b = np.array([\n",
    "    [0, 0, 0, 0, 0],     # [e, e, e, e, e]\n",
    "    [0, 2, 4, 7, 11],    # [e, x^2, x^4, x^7, x^11]\n",
    "    [0, 3, 10, 14, 15]   # [e, x^3, x^10, x^14, x^15]\n",
    "])"
   ]
  },
  {
   "cell_type": "code",
   "execution_count": 7,
   "id": "62fc6388",
   "metadata": {},
   "outputs": [
    {
     "name": "stdout",
     "output_type": "stream",
     "text": [
      "# data qubits:  544  # logical qubits:  80\n",
      "# z-check qubits:  240  # x-check qubits:  240\n",
      "# layers of entangling gates:  12\n"
     ]
    }
   ],
   "source": [
    "code = QlpCode(b, b, lift_size)   # Define the QlpCode object\n",
    "code.build_graph(seed=1)          # Build the Tanner graph and assign directions to its edges. \n",
    "\n",
    "num_zcheck, num_data = code.hz.shape\n",
    "num_xcheck, num_data = code.hx.shape\n",
    "num_logical = code.lz.shape[0]\n",
    "depth = sum(list(code.num_colors.values())) \n",
    "print('# data qubits: ', num_data, ' # logical qubits: ', num_logical)\n",
    "print('# z-check qubits: ', num_zcheck, ' # x-check qubits: ', num_xcheck)\n",
    "print('# layers of entangling gates: ', depth)"
   ]
  },
  {
   "cell_type": "code",
   "execution_count": 8,
   "id": "299ae491",
   "metadata": {},
   "outputs": [],
   "source": [
    "p = 1e-3           # physical error rate\n",
    "num_rounds = 15    # number of rounds (T-1)\n",
    "basis = 'Z'        # 'Z' or 'X'\n",
    "\n",
    "# Generate the memory experiment circuit\n",
    "circuit = stim.Circuit(get_qldpc_mem_circuit(code, p, p, p, p, num_rounds, basis=basis))\n",
    "check_overlapping_CX(circuit)    # Check for overlapping CX gates in the same layer. Nothing should be printed.\n",
    "#print(circuit)"
   ]
  },
  {
   "cell_type": "markdown",
   "id": "f3349673",
   "metadata": {},
   "source": [
    "### Lift-connected surface code\n",
    "\n",
    "QLP code can be constructed with polynomial entries using `QlpCode2`. Each entry is the list of power of the polynomial terms. \n",
    "\n",
    "As an example, we generate the circuit of the lift-connected surface code, brought from [J. Old, M. Rispler, and M. Müller, arXiv:2401.02911]. "
   ]
  },
  {
   "cell_type": "code",
   "execution_count": 9,
   "id": "2926fd42",
   "metadata": {},
   "outputs": [],
   "source": [
    "lift_size = 5\n",
    "b = [[[0], [0, 1], []],   # [e, e+x, 0]\n",
    "     [[], [0], [0, 1]]]   # [0, e, e+x]"
   ]
  },
  {
   "cell_type": "code",
   "execution_count": 10,
   "id": "52b954ef",
   "metadata": {},
   "outputs": [
    {
     "name": "stdout",
     "output_type": "stream",
     "text": [
      "# data qubits:  65  # logical qubits:  5\n",
      "# z-check qubits:  30  # x-check qubits:  30\n",
      "# layers of entangling gates:  8\n"
     ]
    }
   ],
   "source": [
    "code = QlpCode2(b, b, lift_size)   # Define the QlpCode2 object\n",
    "code.build_graph(seed=1)           # Build the Tanner graph and assign directions to its edges. \n",
    "\n",
    "num_zcheck, num_data = code.hz.shape\n",
    "num_xcheck, num_data = code.hx.shape\n",
    "num_logical = code.lz.shape[0]\n",
    "depth = sum(list(code.num_colors.values())) \n",
    "print('# data qubits: ', num_data, ' # logical qubits: ', num_logical)\n",
    "print('# z-check qubits: ', num_zcheck, ' # x-check qubits: ', num_xcheck)\n",
    "print('# layers of entangling gates: ', depth)"
   ]
  },
  {
   "cell_type": "code",
   "execution_count": 11,
   "id": "4036f923",
   "metadata": {},
   "outputs": [],
   "source": [
    "p = 1e-3           # physical error rate\n",
    "num_rounds = 15    # number of rounds (T-1)\n",
    "basis = 'Z'        # 'Z' or 'X'\n",
    "\n",
    "# Generate the memory experiment circuit\n",
    "circuit = stim.Circuit(get_qldpc_mem_circuit(code, p, p, p, p, num_rounds, basis=basis))\n",
    "check_overlapping_CX(circuit)    # Check for overlapping CX gates in the same layer. Nothing should be printed.\n",
    "#print(circuit)"
   ]
  },
  {
   "cell_type": "markdown",
   "id": "2b766d08",
   "metadata": {},
   "source": [
    "### Balanced product cyclic (BPC) code\n",
    "\n",
    "This code is introduced in [R. Tiew & N. P. Breuckmann, arXiv:2411.03302]. \n",
    "\n",
    "To precisely match the paper, you should insert $p_2^T$ from arXiv:2411.03302 into $p_2$ here. That is, for the second polynomial, the entries should be `lift_size` minus the powers in arXiv:2411.03302. This is due to the different convention of the parity check matrix we use in QUITS. "
   ]
  },
  {
   "cell_type": "code",
   "execution_count": 12,
   "id": "68975ae8",
   "metadata": {},
   "outputs": [],
   "source": [
    "lift_size, factor = 18, 3   # lift_size = factor * q \n",
    "p1 = [0, 1, 5]     # e + x + x^5\n",
    "p2 = [0, 8, 13]    # e + x^8 + x^13, which is TRANSPOSE of e + x^2 + x^7 in arXiv:2411.03302"
   ]
  },
  {
   "cell_type": "code",
   "execution_count": 13,
   "id": "d1eb9f95",
   "metadata": {},
   "outputs": [
    {
     "name": "stdout",
     "output_type": "stream",
     "text": [
      "# data qubits:  108  # logical qubits:  8\n",
      "# z-check qubits:  54  # x-check qubits:  54\n",
      "# layers of entangling gates:  8\n"
     ]
    }
   ],
   "source": [
    "code = BpcCode(p1, p2, lift_size, factor)  # Define the BpcCode object\n",
    "code.build_graph(seed=1)                   # Build the Tanner graph and assign directions to its edges. \n",
    "\n",
    "num_zcheck, num_data = code.hz.shape\n",
    "num_xcheck, num_data = code.hx.shape\n",
    "num_logical = code.lz.shape[0]\n",
    "depth = sum(list(code.num_colors.values())) \n",
    "print('# data qubits: ', num_data, ' # logical qubits: ', num_logical)\n",
    "print('# z-check qubits: ', num_zcheck, ' # x-check qubits: ', num_xcheck)\n",
    "print('# layers of entangling gates: ', depth)"
   ]
  },
  {
   "cell_type": "markdown",
   "id": "27121110",
   "metadata": {},
   "source": [
    "For the BPC code, logical operators are written in the form in Eq. 30 of arXiv:2411.03302"
   ]
  },
  {
   "cell_type": "code",
   "execution_count": 14,
   "id": "56a210c1",
   "metadata": {},
   "outputs": [
    {
     "name": "stdout",
     "output_type": "stream",
     "text": [
      "Z0 :  [54 55 57 58 60 61 63 64 66 67 69 70] , X0 :  [ 0  1  3  4  6  7  9 10 12 13 15 16]\n",
      "Z1 :  [55 56 58 59 61 62 64 65 67 68 70 71] , X1 :  [ 1  2  4  5  7  8 10 11 13 14 16 17]\n",
      "Z2 :  [72 73 75 76 78 79 81 82 84 85 87 88] , X2 :  [18 19 21 22 24 25 27 28 30 31 33 34]\n",
      "Z3 :  [73 74 76 77 79 80 82 83 85 86 88 89] , X3 :  [19 20 22 23 25 26 28 29 31 32 34 35]\n",
      "Z4 :  [ 0  3  6  9 12 15 18 21 24 27 30 33] , X4 :  [54 57 60 63 66 69 72 75 78 81 84 87]\n",
      "Z5 :  [ 1  4  7 10 13 16 19 22 25 28 31 34] , X5 :  [55 58 61 64 67 70 73 76 79 82 85 88]\n",
      "Z6 :  [18 21 24 27 30 33 36 39 42 45 48 51] , X6 :  [ 72  75  78  81  84  87  90  93  96  99 102 105]\n",
      "Z7 :  [19 22 25 28 31 34 37 40 43 46 49 52] , X7 :  [ 73  76  79  82  85  88  91  94  97 100 103 106]\n"
     ]
    }
   ],
   "source": [
    "for i in range(code.lz.shape[0]):\n",
    "    print('Z%d : '%i, np.where(code.lz[i,:]==1)[0], ', X%d : '%i, np.where(code.lx[i,:]==1)[0])"
   ]
  },
  {
   "cell_type": "code",
   "execution_count": 15,
   "id": "e5bdce14",
   "metadata": {},
   "outputs": [],
   "source": [
    "p = 2e-3           # physical error rate\n",
    "num_rounds = 15    # number of rounds (T-1)\n",
    "basis = 'Z'        # 'Z' or 'X'\n",
    "\n",
    "# Generate the memory experiment circuit\n",
    "circuit = stim.Circuit(get_qldpc_mem_circuit(code, p, p, p, p, num_rounds, basis=basis))\n",
    "check_overlapping_CX(circuit)    # Check for overlapping CX gates in the same layer. Nothing should be printed.\n",
    "#print(circuit)"
   ]
  },
  {
   "cell_type": "markdown",
   "id": "c6415618",
   "metadata": {},
   "source": [
    "# Simulate the QEC performance"
   ]
  },
  {
   "cell_type": "code",
   "execution_count": 16,
   "id": "59700b1d",
   "metadata": {},
   "outputs": [
    {
     "name": "stderr",
     "output_type": "stream",
     "text": [
      "100%|██████████| 100/100 [00:16<00:00,  5.90it/s]"
     ]
    },
    {
     "name": "stdout",
     "output_type": "stream",
     "text": [
      "p: 0.0020000, LFR: 0.0006698\n"
     ]
    },
    {
     "name": "stderr",
     "output_type": "stream",
     "text": [
      "\n"
     ]
    }
   ],
   "source": [
    "num_trials = 100\n",
    "## Simulate the circuit using Stim. \n",
    "detection_events, observable_flips = get_stim_mem_result(circuit, num_trials, seed=2)   # simulate the circuit using Stim\n",
    "\n",
    "W, F = 5, 3                     # sliding window parameters\n",
    "max_iter, osd_order = 20, 10    # BP-OSD decoder parameters \n",
    "\n",
    "# Perform decoding of the detection_events generated from simulating the circuit. \n",
    "# Returns the logical observable flip predicted from decoding. \n",
    "logical_pred = sliding_window_bposd_circuit_mem(detection_events, circuit, code.hz, code.lz,\\\n",
    "                                                W, F, max_iter=max_iter, osd_order=osd_order, tqdm_on=True)\n",
    "\n",
    "# Logical error is recorded whenever logical_pred does not match observable_flips for any logical qubit at any round\n",
    "pL = np.sum((observable_flips- logical_pred).any(axis=1)) / num_trials\n",
    "lfr = 1 - (1-pL)**(1/num_rounds)\n",
    "print('p: %.7f, LFR: %.7f'%(p, lfr))"
   ]
  },
  {
   "cell_type": "markdown",
   "id": "7a6cca06-6a29-48e0-8406-7afa417d1d86",
   "metadata": {},
   "source": [
    "## Example of using a customized inner decoder for sliding-window decoding"
   ]
  },
  {
   "cell_type": "code",
   "execution_count": 17,
   "id": "ef3b0a84-c13a-4d5f-800f-a72e7347af8b",
   "metadata": {},
   "outputs": [
    {
     "name": "stderr",
     "output_type": "stream",
     "text": [
      "100%|██████████| 100/100 [00:17<00:00,  5.69it/s]\n"
     ]
    }
   ],
   "source": [
    "#use the BP-OSD decoder from the LDPC package (https://software.roffe.eu/ldpc/) as an example\n",
    "from quits.decoder import sliding_window_bposd_circuit_mem,sliding_window_circuit_mem\n",
    "from ldpc.bposd_decoder import BpOsdDecoder\n",
    "'''\n",
    "Note that it is allowed to use a different decoder (Decoder2) for the last decoding window \n",
    "than the one used for the other windows (Decoder1).\n",
    "This feature is useful when you want to: \n",
    "   i.e. running BP decoder for all other windows but use BPOSD for the last window to make sure the correction match the syndrome\n",
    "   \n",
    "The name of the decoder class is the BpOsdDecoder\n",
    "The method of this class that takes in a syndrome and returns a correction is \"decode\"\n",
    "The parameter of BpOsdDecoder that stores the individual error rate for different error mechanisms is \"channel_probs\"\n",
    "An instance of this class is initialized with a parity check matirx, \"channel_probs\", and the other parameters listed below\n",
    "'''\n",
    "#Other paramters that defines the decoders\n",
    "dict1={'bp_method' : 'product_sum',\n",
    "        'max_iter' : max_iter,\n",
    "        'schedule' : 'serial',\n",
    "        'osd_method' : 'osd_cs',\n",
    "        'osd_order' : osd_order}\n",
    "dict2={'bp_method' : 'product_sum',\n",
    "        'max_iter' : max_iter,\n",
    "        'schedule' : 'serial',\n",
    "        'osd_method' :  'osd_cs',\n",
    "        'osd_order' : osd_order}\n",
    "# Returns the logical observable flip predicted from decoding. \n",
    "logical_pred = sliding_window_circuit_mem(detection_events, circuit, code.hz, code.lz, W, F,\n",
    "                                          BpOsdDecoder, BpOsdDecoder, dict1, dict2, \n",
    "                                          'channel_probs','channel_probs', 'decode', 'decode', tqdm_on=True)"
   ]
  }
 ],
 "metadata": {
  "kernelspec": {
   "display_name": "qec",
   "language": "python",
   "name": "python3"
  },
  "language_info": {
   "codemirror_mode": {
    "name": "ipython",
    "version": 3
   },
   "file_extension": ".py",
   "mimetype": "text/x-python",
   "name": "python",
   "nbconvert_exporter": "python",
   "pygments_lexer": "ipython3",
   "version": "3.12.11"
  }
 },
 "nbformat": 4,
 "nbformat_minor": 5
}
